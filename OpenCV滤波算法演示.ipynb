{
 "cells": [
  {
   "cell_type": "markdown",
   "metadata": {
    "vscode": {
     "languageId": "raw"
    }
   },
   "source": [
    "# OpenCV滤波算法演示\n",
    "\n",
    "本notebook演示了几种常见的OpenCV滤波算法，使用经典的Lena图片作为示例。\n",
    "\n",
    "## 滤波算法简介\n",
    "\n",
    "滤波是图像处理中的基础操作，主要用于：\n",
    "- 降噪\n",
    "- 平滑图像\n",
    "- 去除图像中的不需要细节\n",
    "- 为后续处理做准备\n",
    "\n",
    "我们将演示以下几种滤波算法：\n",
    "1. **均值滤波（Mean Blur）** - 简单平均，适用于高斯噪声\n",
    "2. **高斯滤波（Gaussian Blur）** - 加权平均，效果更自然\n",
    "3. **中值滤波（Median Blur）** - 适用于椒盐噪声\n",
    "4. **双边滤波（Bilateral Filter）** - 保边去噪，保持边缘清晰\n"
   ]
  },
  {
   "cell_type": "code",
   "execution_count": 3,
   "metadata": {},
   "outputs": [],
   "source": [
    "# 导入必要的库\n",
    "import cv2\n",
    "import numpy as np\n",
    "import matplotlib.pyplot as plt\n",
    "\n",
    "# 设置matplotlib显示中文\n",
    "plt.rcParams['font.sans-serif'] = ['SimHei']\n",
    "plt.rcParams['axes.unicode_minus'] = False\n",
    "\n",
    "# 设置图像显示大小\n",
    "plt.rcParams['figure.figsize'] = (15, 10)\n"
   ]
  },
  {
   "cell_type": "code",
   "execution_count": null,
   "metadata": {},
   "outputs": [],
   "source": [
    "# 读取图像\n",
    "img = cv2.imread('lena.jpg')\n",
    "\n",
    "# 检查图像是否成功读取\n",
    "if img is None:\n",
    "    print(\"错误：无法读取图像文件 'lena.jpg'，请确保文件存在于当前目录\")\n",
    "else:\n",
    "    print(f\"图像读取成功！\")\n",
    "    print(f\"图像尺寸: {img.shape}\")\n",
    "    print(f\"图像类型: {img.dtype}\")\n",
    "    \n",
    "    # 将BGR转换为RGB（matplotlib显示需要）\n",
    "    img_rgb = cv2.cvtColor(img, cv2.COLOR_BGR2RGB)\n",
    "    \n",
    "    # 显示原始图像\n",
    "    plt.figure(figsize=(8, 8))\n",
    "    plt.imshow(img_rgb)\n",
    "    plt.title('原始图像 (Lena)', fontsize=16)\n",
    "    plt.axis('off')\n",
    "    plt.show()\n"
   ]
  },
  {
   "cell_type": "markdown",
   "metadata": {
    "vscode": {
     "languageId": "raw"
    }
   },
   "source": [
    "## 1. 均值滤波（Mean Blur）\n",
    "\n",
    "均值滤波是最简单的滤波方法，它用邻域内所有像素的平均值来替代中心像素值。\n",
    "\n",
    "**原理**：\n",
    "- 对每个像素，计算其邻域内所有像素的平均值\n",
    "- 用这个平均值替代原像素值\n",
    "- 核大小决定了平滑程度\n",
    "\n",
    "**特点**：\n",
    "- 简单快速\n",
    "- 对高斯噪声有效\n",
    "- 会模糊边缘\n"
   ]
  },
  {
   "cell_type": "code",
   "execution_count": null,
   "metadata": {},
   "outputs": [],
   "source": [
    "# 均值滤波演示\n",
    "if img is not None:\n",
    "    # 应用不同大小的均值滤波\n",
    "    blur_3x3 = cv2.blur(img, (3, 3))\n",
    "    blur_5x5 = cv2.blur(img, (5, 5))\n",
    "    blur_15x15 = cv2.blur(img, (15, 15))\n",
    "    \n",
    "    # 转换为RGB格式\n",
    "    blur_3x3_rgb = cv2.cvtColor(blur_3x3, cv2.COLOR_BGR2RGB)\n",
    "    blur_5x5_rgb = cv2.cvtColor(blur_5x5, cv2.COLOR_BGR2RGB)\n",
    "    blur_15x15_rgb = cv2.cvtColor(blur_15x15, cv2.COLOR_BGR2RGB)\n",
    "    \n",
    "    # 显示结果\n",
    "    fig, axes = plt.subplots(2, 2, figsize=(12, 12))\n",
    "    \n",
    "    axes[0,0].imshow(img_rgb)\n",
    "    axes[0,0].set_title('原始图像', fontsize=14)\n",
    "    axes[0,0].axis('off')\n",
    "    \n",
    "    axes[0,1].imshow(blur_3x3_rgb)\n",
    "    axes[0,1].set_title('均值滤波 (3×3)', fontsize=14)\n",
    "    axes[0,1].axis('off')\n",
    "    \n",
    "    axes[1,0].imshow(blur_5x5_rgb)\n",
    "    axes[1,0].set_title('均值滤波 (5×5)', fontsize=14)\n",
    "    axes[1,0].axis('off')\n",
    "    \n",
    "    axes[1,1].imshow(blur_15x15_rgb)\n",
    "    axes[1,1].set_title('均值滤波 (15×15)', fontsize=14)\n",
    "    axes[1,1].axis('off')\n",
    "    \n",
    "    plt.tight_layout()\n",
    "    plt.show()\n",
    "    \n",
    "    print(\"观察：随着核大小增加，图像变得越来越模糊\")\n"
   ]
  },
  {
   "cell_type": "markdown",
   "metadata": {
    "vscode": {
     "languageId": "raw"
    }
   },
   "source": [
    "## 2. 高斯滤波（Gaussian Blur）\n",
    "\n",
    "高斯滤波使用高斯函数作为滤波核，给不同距离的像素分配不同的权重。\n",
    "\n",
    "**原理**：\n",
    "- 距离中心越近的像素权重越大\n",
    "- 距离中心越远的像素权重越小\n",
    "- 权重分布符合高斯分布\n",
    "\n",
    "**参数**：\n",
    "- `ksize`: 核大小（必须为奇数）\n",
    "- `sigmaX`: X方向标准差\n",
    "- `sigmaY`: Y方向标准差（可选）\n",
    "\n",
    "**特点**：\n",
    "- 效果比均值滤波更自然\n",
    "- 保持图像的整体结构\n",
    "- 广泛应用于图像预处理\n"
   ]
  },
  {
   "cell_type": "code",
   "execution_count": null,
   "metadata": {},
   "outputs": [],
   "source": [
    "# 高斯滤波演示\n",
    "if img is not None:\n",
    "    # 应用不同参数的高斯滤波\n",
    "    gaussian_small = cv2.GaussianBlur(img, (5, 5), 1)\n",
    "    gaussian_medium = cv2.GaussianBlur(img, (15, 15), 3)\n",
    "    gaussian_large = cv2.GaussianBlur(img, (31, 31), 10)\n",
    "    \n",
    "    # 转换为RGB格式\n",
    "    gaussian_small_rgb = cv2.cvtColor(gaussian_small, cv2.COLOR_BGR2RGB)\n",
    "    gaussian_medium_rgb = cv2.cvtColor(gaussian_medium, cv2.COLOR_BGR2RGB)\n",
    "    gaussian_large_rgb = cv2.cvtColor(gaussian_large, cv2.COLOR_BGR2RGB)\n",
    "    \n",
    "    # 显示结果\n",
    "    fig, axes = plt.subplots(2, 2, figsize=(12, 12))\n",
    "    \n",
    "    axes[0,0].imshow(img_rgb)\n",
    "    axes[0,0].set_title('原始图像', fontsize=14)\n",
    "    axes[0,0].axis('off')\n",
    "    \n",
    "    axes[0,1].imshow(gaussian_small_rgb)\n",
    "    axes[0,1].set_title('高斯滤波 (5×5, σ=1)', fontsize=14)\n",
    "    axes[0,1].axis('off')\n",
    "    \n",
    "    axes[1,0].imshow(gaussian_medium_rgb)\n",
    "    axes[1,0].set_title('高斯滤波 (15×15, σ=3)', fontsize=14)\n",
    "    axes[1,0].axis('off')\n",
    "    \n",
    "    axes[1,1].imshow(gaussian_large_rgb)\n",
    "    axes[1,1].set_title('高斯滤波 (31×31, σ=10)', fontsize=14)\n",
    "    axes[1,1].axis('off')\n",
    "    \n",
    "    plt.tight_layout()\n",
    "    plt.show()\n",
    "    \n",
    "    print(\"观察：高斯滤波的效果比均值滤波更加自然平滑\")\n"
   ]
  },
  {
   "cell_type": "markdown",
   "metadata": {
    "vscode": {
     "languageId": "raw"
    }
   },
   "source": [
    "## 3. 中值滤波（Median Blur）\n",
    "\n",
    "中值滤波用邻域内像素的中值来替代中心像素值，是一种非线性滤波方法。\n",
    "\n",
    "**原理**：\n",
    "- 对每个像素，获取其邻域内所有像素值\n",
    "- 将这些值排序，取中间值（中位数）\n",
    "- 用中位数替代原像素值\n",
    "\n",
    "**特点**：\n",
    "- 对椒盐噪声（黑白点噪声）非常有效\n",
    "- 能够很好地保持边缘\n",
    "- 不会产生新的像素值\n",
    "- 只能使用奇数大小的核\n"
   ]
  },
  {
   "cell_type": "code",
   "execution_count": null,
   "metadata": {},
   "outputs": [],
   "source": [
    "# 中值滤波演示\n",
    "if img is not None:\n",
    "    # 首先给图像添加椒盐噪声，以便更好地展示中值滤波的效果\n",
    "    img_noisy = img.copy()\n",
    "    noise = np.random.randint(0, 2, size=img.shape[:2])\n",
    "    img_noisy[noise == 0] = 0      # 椒噪声（黑点）\n",
    "    img_noisy[noise == 1] = 255    # 盐噪声（白点）\n",
    "    \n",
    "    # 应用不同大小的中值滤波\n",
    "    median_3 = cv2.medianBlur(img_noisy, 3)\n",
    "    median_5 = cv2.medianBlur(img_noisy, 5)\n",
    "    median_9 = cv2.medianBlur(img_noisy, 9)\n",
    "    \n",
    "    # 转换为RGB格式\n",
    "    img_noisy_rgb = cv2.cvtColor(img_noisy, cv2.COLOR_BGR2RGB)\n",
    "    median_3_rgb = cv2.cvtColor(median_3, cv2.COLOR_BGR2RGB)\n",
    "    median_5_rgb = cv2.cvtColor(median_5, cv2.COLOR_BGR2RGB)\n",
    "    median_9_rgb = cv2.cvtColor(median_9, cv2.COLOR_BGR2RGB)\n",
    "    \n",
    "    # 显示结果\n",
    "    fig, axes = plt.subplots(2, 2, figsize=(12, 12))\n",
    "    \n",
    "    axes[0,0].imshow(img_noisy_rgb)\n",
    "    axes[0,0].set_title('添加椒盐噪声的图像', fontsize=14)\n",
    "    axes[0,0].axis('off')\n",
    "    \n",
    "    axes[0,1].imshow(median_3_rgb)\n",
    "    axes[0,1].set_title('中值滤波 (3×3)', fontsize=14)\n",
    "    axes[0,1].axis('off')\n",
    "    \n",
    "    axes[1,0].imshow(median_5_rgb)\n",
    "    axes[1,0].set_title('中值滤波 (5×5)', fontsize=14)\n",
    "    axes[1,0].axis('off')\n",
    "    \n",
    "    axes[1,1].imshow(median_9_rgb)\n",
    "    axes[1,1].set_title('中值滤波 (9×9)', fontsize=14)\n",
    "    axes[1,1].axis('off')\n",
    "    \n",
    "    plt.tight_layout()\n",
    "    plt.show()\n",
    "    \n",
    "    print(\"观察：中值滤波能够有效去除椒盐噪声，同时保持边缘清晰\")\n"
   ]
  },
  {
   "cell_type": "markdown",
   "metadata": {
    "vscode": {
     "languageId": "raw"
    }
   },
   "source": [
    "## 4. 双边滤波（Bilateral Filter）\n",
    "\n",
    "双边滤波是一种非线性滤波方法，能够在去噪的同时保持边缘清晰。\n",
    "\n",
    "**原理**：\n",
    "- 同时考虑空间距离和像素值差异\n",
    "- 空间距离近且像素值相似的点权重大\n",
    "- 空间距离远或像素值差异大的点权重小\n",
    "\n",
    "**参数**：\n",
    "- `d`: 像素邻域直径\n",
    "- `sigmaColor`: 颜色空间的标准差\n",
    "- `sigmaSpace`: 坐标空间的标准差\n",
    "\n",
    "**特点**：\n",
    "- 保边去噪效果优秀\n",
    "- 计算复杂度较高\n",
    "- 广泛应用于图像美化和预处理\n"
   ]
  },
  {
   "cell_type": "code",
   "execution_count": null,
   "metadata": {},
   "outputs": [],
   "source": [
    "# 双边滤波演示\n",
    "if img is not None:\n",
    "    # 应用不同参数的双边滤波\n",
    "    bilateral_light = cv2.bilateralFilter(img, 9, 20, 20)   # 轻度滤波\n",
    "    bilateral_medium = cv2.bilateralFilter(img, 9, 50, 50)  # 中度滤波\n",
    "    bilateral_strong = cv2.bilateralFilter(img, 9, 100, 100) # 强度滤波\n",
    "    \n",
    "    # 转换为RGB格式\n",
    "    bilateral_light_rgb = cv2.cvtColor(bilateral_light, cv2.COLOR_BGR2RGB)\n",
    "    bilateral_medium_rgb = cv2.cvtColor(bilateral_medium, cv2.COLOR_BGR2RGB)\n",
    "    bilateral_strong_rgb = cv2.cvtColor(bilateral_strong, cv2.COLOR_BGR2RGB)\n",
    "    \n",
    "    # 显示结果\n",
    "    fig, axes = plt.subplots(2, 2, figsize=(12, 12))\n",
    "    \n",
    "    axes[0,0].imshow(img_rgb)\n",
    "    axes[0,0].set_title('原始图像', fontsize=14)\n",
    "    axes[0,0].axis('off')\n",
    "    \n",
    "    axes[0,1].imshow(bilateral_light_rgb)\n",
    "    axes[0,1].set_title('双边滤波 (σ=20)', fontsize=14)\n",
    "    axes[0,1].axis('off')\n",
    "    \n",
    "    axes[1,0].imshow(bilateral_medium_rgb)\n",
    "    axes[1,0].set_title('双边滤波 (σ=50)', fontsize=14)\n",
    "    axes[1,0].axis('off')\n",
    "    \n",
    "    axes[1,1].imshow(bilateral_strong_rgb)\n",
    "    axes[1,1].set_title('双边滤波 (σ=100)', fontsize=14)\n",
    "    axes[1,1].axis('off')\n",
    "    \n",
    "    plt.tight_layout()\n",
    "    plt.show()\n",
    "    \n",
    "    print(\"观察：双边滤波能够平滑图像的同时保持边缘清晰\")\n"
   ]
  },
  {
   "cell_type": "markdown",
   "metadata": {
    "vscode": {
     "languageId": "raw"
    }
   },
   "source": [
    "## 5. 滤波算法对比\n",
    "\n",
    "让我们将四种滤波算法应用到同一张图像上，直观地比较它们的效果。\n"
   ]
  },
  {
   "cell_type": "code",
   "execution_count": null,
   "metadata": {},
   "outputs": [],
   "source": [
    "# 滤波算法对比\n",
    "if img is not None:\n",
    "    # 应用四种滤波算法（使用相似的参数）\n",
    "    mean_blur = cv2.blur(img, (9, 9))\n",
    "    gaussian_blur = cv2.GaussianBlur(img, (9, 9), 2)\n",
    "    median_blur = cv2.medianBlur(img, 9)\n",
    "    bilateral_blur = cv2.bilateralFilter(img, 9, 50, 50)\n",
    "    \n",
    "    # 转换为RGB格式\n",
    "    mean_blur_rgb = cv2.cvtColor(mean_blur, cv2.COLOR_BGR2RGB)\n",
    "    gaussian_blur_rgb = cv2.cvtColor(gaussian_blur, cv2.COLOR_BGR2RGB)\n",
    "    median_blur_rgb = cv2.cvtColor(median_blur, cv2.COLOR_BGR2RGB)\n",
    "    bilateral_blur_rgb = cv2.cvtColor(bilateral_blur, cv2.COLOR_BGR2RGB)\n",
    "    \n",
    "    # 创建对比图\n",
    "    fig, axes = plt.subplots(2, 3, figsize=(18, 12))\n",
    "    \n",
    "    # 第一行\n",
    "    axes[0,0].imshow(img_rgb)\n",
    "    axes[0,0].set_title('原始图像', fontsize=16, fontweight='bold')\n",
    "    axes[0,0].axis('off')\n",
    "    \n",
    "    axes[0,1].imshow(mean_blur_rgb)\n",
    "    axes[0,1].set_title('均值滤波', fontsize=16)\n",
    "    axes[0,1].axis('off')\n",
    "    \n",
    "    axes[0,2].imshow(gaussian_blur_rgb)\n",
    "    axes[0,2].set_title('高斯滤波', fontsize=16)\n",
    "    axes[0,2].axis('off')\n",
    "    \n",
    "    # 第二行\n",
    "    axes[1,0].imshow(median_blur_rgb)\n",
    "    axes[1,0].set_title('中值滤波', fontsize=16)\n",
    "    axes[1,0].axis('off')\n",
    "    \n",
    "    axes[1,1].imshow(bilateral_blur_rgb)\n",
    "    axes[1,1].set_title('双边滤波', fontsize=16)\n",
    "    axes[1,1].axis('off')\n",
    "    \n",
    "    # 隐藏最后一个子图\n",
    "    axes[1,2].axis('off')\n",
    "    \n",
    "    plt.tight_layout()\n",
    "    plt.show()\n",
    "    \n",
    "    print(\"\\\\n各种滤波算法的特点总结：\")\n",
    "    print(\"• 均值滤波：最简单，会模糊边缘\")\n",
    "    print(\"• 高斯滤波：效果自然，广泛应用\")\n",
    "    print(\"• 中值滤波：去除椒盐噪声效果好，保持边缘\")\n",
    "    print(\"• 双边滤波：保边去噪，效果最佳但计算量大\")\n"
   ]
  },
  {
   "cell_type": "markdown",
   "metadata": {
    "vscode": {
     "languageId": "raw"
    }
   },
   "source": [
    "## 总结\n",
    "\n",
    "通过本次演示，我们学习了四种常见的OpenCV滤波算法：\n",
    "\n",
    "### 算法选择指南\n",
    "\n",
    "| 滤波算法 | 适用场景 | 优点 | 缺点 |\n",
    "|---------|---------|------|------|\n",
    "| 均值滤波 | 简单降噪、快速处理 | 计算简单、速度快 | 会模糊边缘 |\n",
    "| 高斯滤波 | 一般图像预处理 | 效果自然、应用广泛 | 仍会模糊边缘 |\n",
    "| 中值滤波 | 椒盐噪声去除 | 保持边缘、去除脉冲噪声 | 对高斯噪声效果一般 |\n",
    "| 双边滤波 | 高质量图像处理 | 保边去噪效果最佳 | 计算复杂、速度慢 |\n",
    "\n",
    "### 课堂要点\n",
    "\n",
    "1. **滤波的本质**：用邻域信息替代原像素值\n",
    "2. **核大小的影响**：核越大，平滑效果越强\n",
    "3. **线性vs非线性**：均值和高斯是线性的，中值和双边是非线性的\n",
    "4. **实际应用**：根据具体需求选择合适的滤波算法\n",
    "\n",
    "### 下一步学习\n",
    "\n",
    "- 边缘检测算法（Canny、Sobel等）\n",
    "- 形态学操作（开运算、闭运算等）\n",
    "- 特征检测与匹配\n",
    "- 图像分割技术\n"
   ]
  }
 ],
 "metadata": {
  "kernelspec": {
   "display_name": "Python 3 (ipykernel)",
   "language": "python",
   "name": "python3"
  },
  "language_info": {
   "codemirror_mode": {
    "name": "ipython",
    "version": 3
   },
   "file_extension": ".py",
   "mimetype": "text/x-python",
   "name": "python",
   "nbconvert_exporter": "python",
   "pygments_lexer": "ipython3",
   "version": "3.11.5"
  }
 },
 "nbformat": 4,
 "nbformat_minor": 2
}
